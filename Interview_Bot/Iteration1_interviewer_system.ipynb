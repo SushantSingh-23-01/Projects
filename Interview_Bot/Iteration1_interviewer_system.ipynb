{
 "cells": [
  {
   "cell_type": "markdown",
   "metadata": {},
   "source": [
    "# Interviewing System based on BM25"
   ]
  },
  {
   "cell_type": "markdown",
   "metadata": {},
   "source": [
    "Problems with tfidf:\n",
    "- Problem of tf: if 'cat' occurs 1 time in 10 sequence length document A\n",
    "and 10 times for seq length in doc B, the relevancy is not similar (even though it might seem at first due to proportion) as the 10 cat words might occur in last 30 tokens (highly unlikey here but might be true as the doc size becomes larger). So we have to transverse more as document length increas which seems to not penalised in tfidf<br>\n",
    "- Partial derivative of tf-idf w.r.t to tf gives idf which is independent of keyowrds in particular document. That is increasing keywords in documents will have constant affect, which is undesirable. As having '10 cats' to '100 cats' for a sequence length increase from 100 to 1250 (instead of 1000) should be penalised more."
   ]
  },
  {
   "cell_type": "markdown",
   "metadata": {},
   "source": [
    "Reference : https://www.youtube.com/watch?v=ruBm9WywevM"
   ]
  },
  {
   "cell_type": "markdown",
   "metadata": {},
   "source": [
    "### Load and format Dataset"
   ]
  },
  {
   "cell_type": "code",
   "execution_count": 1,
   "metadata": {},
   "outputs": [
    {
     "data": {
      "text/plain": [
       "DatasetDict({\n",
       "    train: Dataset({\n",
       "        features: ['output', 'instruction', 'input'],\n",
       "        num_rows: 10000\n",
       "    })\n",
       "})"
      ]
     },
     "execution_count": 1,
     "metadata": {},
     "output_type": "execute_result"
    }
   ],
   "source": [
    "from datasets import load_dataset\n",
    "\n",
    "data = load_dataset('medalpaca/medical_meadow_wikidoc')\n",
    "data"
   ]
  },
  {
   "cell_type": "code",
   "execution_count": 2,
   "metadata": {},
   "outputs": [],
   "source": [
    "import pandas as pd"
   ]
  },
  {
   "cell_type": "code",
   "execution_count": 3,
   "metadata": {},
   "outputs": [],
   "source": [
    "df = data['train'].to_pandas()"
   ]
  },
  {
   "cell_type": "code",
   "execution_count": 4,
   "metadata": {},
   "outputs": [],
   "source": [
    "df = df[['output','input']][:1000]\n",
    "df.columns = ['answer','question']"
   ]
  },
  {
   "cell_type": "code",
   "execution_count": 5,
   "metadata": {},
   "outputs": [
    {
     "data": {
      "text/html": [
       "<div>\n",
       "<style scoped>\n",
       "    .dataframe tbody tr th:only-of-type {\n",
       "        vertical-align: middle;\n",
       "    }\n",
       "\n",
       "    .dataframe tbody tr th {\n",
       "        vertical-align: top;\n",
       "    }\n",
       "\n",
       "    .dataframe thead th {\n",
       "        text-align: right;\n",
       "    }\n",
       "</style>\n",
       "<table border=\"1\" class=\"dataframe\">\n",
       "  <thead>\n",
       "    <tr style=\"text-align: right;\">\n",
       "      <th></th>\n",
       "      <th>answer</th>\n",
       "      <th>question</th>\n",
       "    </tr>\n",
       "  </thead>\n",
       "  <tbody>\n",
       "    <tr>\n",
       "      <th>0</th>\n",
       "      <td>Squamous cell carcinoma of the lung may be classified according to the WHO histological classification system into 4 main types: papillary, clear cell, small cell, and basaloid.</td>\n",
       "      <td>Can you provide an overview of the lung's squamous cell carcinoma?</td>\n",
       "    </tr>\n",
       "    <tr>\n",
       "      <th>1</th>\n",
       "      <td>Clear cell tumors are part of the surface epithelial-stromal tumor group of Ovarian cancers, accounting for 6% of these neoplastic cases. Clear cell tumors are also associated with the pancreas an...</td>\n",
       "      <td>What does \"Clear: cell\" mean?</td>\n",
       "    </tr>\n",
       "    <tr>\n",
       "      <th>2</th>\n",
       "      <td>Two Japanese scientists commenced research into inhibitors of HMG-CoA reductase in 1971 reasoning that organisms might produce such products as the enzyme is important in some essential cell wall ...</td>\n",
       "      <td>Can you provide me with information regarding statins?</td>\n",
       "    </tr>\n",
       "    <tr>\n",
       "      <th>3</th>\n",
       "      <td>Symptoms of vulvovaginitis caused by Candida species are indistinguishable and include the following:   \\nPruritus is the most significant symptom Change in the amount and the color of vaginal dis...</td>\n",
       "      <td>What are the historical background and symptoms of Candida-induced vulvovaginitis?</td>\n",
       "    </tr>\n",
       "    <tr>\n",
       "      <th>4</th>\n",
       "      <td>Hypotension is the term for low blood pressure (BP). A systolic BP measuring less than 90mmHg and/ or diastolic BP of less than 60mmHg is considered hypotension. A difference of 20 mmHg systolic B...</td>\n",
       "      <td>What does the \"Hypotension: Resident Survival Guide\" refer to?</td>\n",
       "    </tr>\n",
       "  </tbody>\n",
       "</table>\n",
       "</div>"
      ],
      "text/plain": [
       "                                                                                                                                                                                                    answer  \\\n",
       "0                        Squamous cell carcinoma of the lung may be classified according to the WHO histological classification system into 4 main types: papillary, clear cell, small cell, and basaloid.   \n",
       "1  Clear cell tumors are part of the surface epithelial-stromal tumor group of Ovarian cancers, accounting for 6% of these neoplastic cases. Clear cell tumors are also associated with the pancreas an...   \n",
       "2  Two Japanese scientists commenced research into inhibitors of HMG-CoA reductase in 1971 reasoning that organisms might produce such products as the enzyme is important in some essential cell wall ...   \n",
       "3  Symptoms of vulvovaginitis caused by Candida species are indistinguishable and include the following:   \\nPruritus is the most significant symptom Change in the amount and the color of vaginal dis...   \n",
       "4  Hypotension is the term for low blood pressure (BP). A systolic BP measuring less than 90mmHg and/ or diastolic BP of less than 60mmHg is considered hypotension. A difference of 20 mmHg systolic B...   \n",
       "\n",
       "                                                                             question  \n",
       "0                  Can you provide an overview of the lung's squamous cell carcinoma?  \n",
       "1                                                       What does \"Clear: cell\" mean?  \n",
       "2                              Can you provide me with information regarding statins?  \n",
       "3  What are the historical background and symptoms of Candida-induced vulvovaginitis?  \n",
       "4                      What does the \"Hypotension: Resident Survival Guide\" refer to?  "
      ]
     },
     "execution_count": 5,
     "metadata": {},
     "output_type": "execute_result"
    }
   ],
   "source": [
    "pd.set_option('display.max_colwidth', 200)\n",
    "df.head()"
   ]
  },
  {
   "cell_type": "markdown",
   "metadata": {},
   "source": [
    "### Preprocess Data"
   ]
  },
  {
   "cell_type": "code",
   "execution_count": 6,
   "metadata": {},
   "outputs": [],
   "source": [
    "from nltk.tokenize import word_tokenize\n",
    "\n",
    "import re\n",
    "from rank_bm25 import BM25Okapi\n",
    "import numpy as np\n",
    "import random"
   ]
  },
  {
   "cell_type": "markdown",
   "metadata": {},
   "source": [
    "Bm25Okapi:  The ATIRE BM25 variant uses an idf function which uses a log(idf) score. To prevent negative idf scores, this algorithm also adds a floor to the idf value of epsilon."
   ]
  },
  {
   "cell_type": "code",
   "execution_count": 7,
   "metadata": {},
   "outputs": [],
   "source": [
    "def preprocess(docs:list):\n",
    "    res = []\n",
    "    for i in docs:\n",
    "        #i = i.lower()\n",
    "        res.append(re.sub(r'[^\\w\\s]', ' ', i))\n",
    "    return res"
   ]
  },
  {
   "cell_type": "markdown",
   "metadata": {},
   "source": [
    "- Trick to interchange between interview bot and search engine is that instead of computing similarity between queries and questions (from dataset) to get answer, do it instead for user answer and dataset answer to get question. \n",
    "- If question obtained due to user answer and the actual question obtained from dataset answer match, first condition for going forward is satisfied.\n",
    "- Get similarity scores between user answer and real answer and set a threshold to continue."
   ]
  },
  {
   "cell_type": "markdown",
   "metadata": {},
   "source": [
    "### Defining Search Engine"
   ]
  },
  {
   "cell_type": "code",
   "execution_count": 8,
   "metadata": {},
   "outputs": [],
   "source": [
    "def search_engine(dataset:pd.DataFrame, query:str):\n",
    "    \"\"\"_summary_\n",
    "\n",
    "    Args:\n",
    "        dataset (pandas.DataFrame): Dataframe with columns = ['question','answer']\n",
    "        query (string): query to be matched\n",
    "\n",
    "    Returns:\n",
    "        user_score (int): Similarity score between answer by user and real answer\n",
    "        user_index (int): Index of answer matched in dataset\n",
    "    \"\"\"\n",
    "    dataset = dataset.drop_duplicates()\n",
    "    dataset = dataset.dropna()\n",
    "    \n",
    "    topic = list(dataset['answer'])\n",
    "    topic = preprocess(topic)\n",
    "    \n",
    "    tokenized_corpus = [word_tokenize(doc) for doc in topic]\n",
    "    \n",
    "    bm25 = BM25Okapi(tokenized_corpus)\n",
    "    \n",
    "    doc_scores = bm25.get_scores(query.split(' '))\n",
    "\n",
    "    \n",
    "    # See below for reason of normalising\n",
    "    i = np.argsort(doc_scores)  # indicies of sorted array in ascending order\n",
    "    sorted_arr = doc_scores[i]  # Sorted array\n",
    "    sorted_arr = sorted_arr[-10:]\n",
    "    sorted_arr /= np.linalg.norm(sorted_arr)\n",
    "    user_score = max(sorted_arr)\n",
    "\n",
    "    \n",
    "    query_results = bm25.get_top_n(query.split(' '), topic, n = 5)\n",
    "    user_index = topic.index(query_results[0])\n",
    "    #result = dataset.iloc[user_index,:]\n",
    "    \n",
    "    return user_score, user_index"
   ]
  },
  {
   "cell_type": "code",
   "execution_count": 9,
   "metadata": {},
   "outputs": [],
   "source": [
    "def qa_pair_generator(dataset:pd.DataFrame):\n",
    "    indice = np.random.randint(len(dataset))\n",
    "    question = dataset['question'][indice]\n",
    "    answer = dataset['answer'][indice]\n",
    "    return question, answer, indice"
   ]
  },
  {
   "cell_type": "code",
   "execution_count": 10,
   "metadata": {},
   "outputs": [],
   "source": [
    "question, answer, indice = qa_pair_generator(df)"
   ]
  },
  {
   "cell_type": "code",
   "execution_count": 11,
   "metadata": {},
   "outputs": [
    {
     "name": "stdout",
     "output_type": "stream",
     "text": [
      "indice : 765\n",
      "question : What is the historical background or context of T-cell prolymphocytic leukemia?\n",
      "answer : 40 years ago, in 1973, Catovsky first described four cases of T-cell prolymphocytic leukemia.   In 1994, Harris a pathologist from Boston and his colleagues made an effort to classify T-cell prolymphocytic leukemia.\n"
     ]
    }
   ],
   "source": [
    "print(f'indice : {indice}\\nquestion : {question}\\nanswer : {answer}')"
   ]
  },
  {
   "cell_type": "markdown",
   "metadata": {},
   "source": [
    "*The above function works<br>But for testing i am replicating results by defining indices instead of randomly creating using function.*"
   ]
  },
  {
   "cell_type": "code",
   "execution_count": 12,
   "metadata": {},
   "outputs": [],
   "source": [
    "indice = 315\n",
    "question, answer, = df.iloc[315]['question'],df.iloc[315]['answer']"
   ]
  },
  {
   "cell_type": "code",
   "execution_count": 13,
   "metadata": {},
   "outputs": [
    {
     "name": "stdout",
     "output_type": "stream",
     "text": [
      "indice : 315\n",
      "question : What are the epidemiological and demographic factors associated with Peutz-Jeghers Syndrome?\n",
      "answer : The epidemiology and demographics are as follows:  \n",
      "The prevalence of Peutz-Jeghers syndrome is estimated to be 0.8 to 2.8 in 100000.\n",
      "Peutz-Jeghers syndrome affects individuals between the ages of 10 to 30 years. Average age of diagnosis of Peutz-Jeghers syndrome is 23 years for males and 26 years for females.\n",
      "There is no racial predilection to Peutz-Jeghers syndrome.\n",
      "Peutz-Jeghers syndrome affects men and women equally. Average age of diagnosis of Peutz-Jeghers syndrome is 23 years for males and 26 years for females.\n"
     ]
    }
   ],
   "source": [
    "print(f'indice : {indice}\\nquestion : {question}\\nanswer : {answer}')"
   ]
  },
  {
   "cell_type": "code",
   "execution_count": 14,
   "metadata": {},
   "outputs": [],
   "source": [
    "query = \"The prevalence of Peutz-Jeghers syndrome is estimated to be 0.8 to 2.8 in 100000. eutz-Jeghers syndrome affects men and women equally. Average age of diagnosis of Peutz-Jeghers syndrome is 23 years for males and 26 years for females\""
   ]
  },
  {
   "cell_type": "code",
   "execution_count": 15,
   "metadata": {},
   "outputs": [
    {
     "name": "stdout",
     "output_type": "stream",
     "text": [
      "score : 0.6335925891591059\n",
      "\n",
      "your answer : The prevalence of Peutz-Jeghers syndrome is estimated to be 0.8 to 2.8 in 100000. eutz-Jeghers syndrome affects men and women equally. Average age of diagnosis of Peutz-Jeghers syndrome is 23 years for males and 26 years for females\n",
      "\n",
      "correct answer : The epidemiology and demographics are as follows:  \n",
      "The prevalence of Peutz-Jeghers syndrome is estimated to be 0.8 to 2.8 in 100000.\n",
      "Peutz-Jeghers syndrome affects individuals between the ages of 10 to 30 years. Average age of diagnosis of Peutz-Jeghers syndrome is 23 years for males and 26 years for females.\n",
      "There is no racial predilection to Peutz-Jeghers syndrome.\n",
      "Peutz-Jeghers syndrome affects men and women equally. Average age of diagnosis of Peutz-Jeghers syndrome is 23 years for males and 26 years for females.\n"
     ]
    }
   ],
   "source": [
    "user_score, user_index = search_engine(df,query)\n",
    "print(f'score : {user_score}\\n\\nyour answer : {query}\\n\\ncorrect answer : {answer}')"
   ]
  },
  {
   "cell_type": "code",
   "execution_count": 16,
   "metadata": {},
   "outputs": [
    {
     "data": {
      "text/plain": [
       "(315, 315)"
      ]
     },
     "execution_count": 16,
     "metadata": {},
     "output_type": "execute_result"
    }
   ],
   "source": [
    "user_index,indice"
   ]
  },
  {
   "cell_type": "code",
   "execution_count": 17,
   "metadata": {},
   "outputs": [],
   "source": [
    "def test_conductor(ans:str):\n",
    "    out_score = 1\n",
    "    user_index,indice = 0,0\n",
    "    while user_index == indice:\n",
    "        question, answer, indice = qa_pair_generator(df)\n",
    "        print(f'Your question is : {question}')\n",
    "        user_score, user_index = search_engine(df,query)\n",
    "        print(f'score : {out_score}\\n\\nYour Answer : {ans}\\n\\nCorrect answer : {answer}')\n",
    "        if user_score < 0.3:\n",
    "            break"
   ]
  },
  {
   "cell_type": "markdown",
   "metadata": {},
   "source": [
    "It is worth noting that the nature of BM25 scores differs from that of dense vectors. While embedding models are designed to generate scores ranging from 0 to 1 - reflecting the likelihood of a document’s relevance to the query - BM25 normalization merely divides by the maximum possible score a document can achieve for a given query. This means the score distribution for BM25 might vary significantly from one query to another.\n",
    "<br><br>\n",
    "The score that BM25 calculates is only usable to **compare search results for a specific query to each other**. It's not possible to transform that score to mean something independent of the query.\n",
    "\n",
    "But there's one way to do something that might be OK in some cases. You decide if this works in your case:\n",
    "\n",
    "Normalize each score, by dividing it with the sum of all scores (of say the top 10 results). Looking at score for the first hit, it now means: \"Are there lots of other hits that also match this query?\". If there are, the number will be low, else it will be high. \n",
    "<br>Reference:<br>https://stats.stackexchange.com/questions/171589/normalised-score-for-bm25 "
   ]
  },
  {
   "cell_type": "markdown",
   "metadata": {},
   "source": [
    "**NOTE**: Other Embedding Models/Techniques can be used instead of BM25, for instance doc2vec or sentence transformer for semantic search."
   ]
  },
  {
   "cell_type": "markdown",
   "metadata": {},
   "source": [
    "### Using Sentence Transformer"
   ]
  },
  {
   "cell_type": "code",
   "execution_count": 18,
   "metadata": {},
   "outputs": [
    {
     "name": "stderr",
     "output_type": "stream",
     "text": [
      "c:\\Users\\SUSHANT\\anaconda3\\envs\\NLP\\Lib\\site-packages\\torch\\_utils.py:831: UserWarning: TypedStorage is deprecated. It will be removed in the future and UntypedStorage will be the only storage class. This should only matter to you if you are using storages directly.  To access UntypedStorage directly, use tensor.untyped_storage() instead of tensor.storage()\n",
      "  return self.fget.__get__(instance, owner)()\n"
     ]
    }
   ],
   "source": [
    "from sentence_transformers import SentenceTransformer,util\n",
    "import torch\n",
    "\n",
    "model_id = \"sentence-transformers/all-MiniLM-L6-v2\" # Context Length 384\n",
    "model = SentenceTransformer(model_id)"
   ]
  },
  {
   "cell_type": "code",
   "execution_count": 19,
   "metadata": {},
   "outputs": [],
   "source": [
    "def ST_search(corpus:list,query:str):\n",
    "    topic = list(corpus['answer'])\n",
    "    corpus_embeddings = model.encode(topic)\n",
    "    query_embeddings = model.encode(query)\n",
    "    similarity = util.cos_sim(corpus_embeddings,query_embeddings)\n",
    "    \n",
    "    index = torch.argmax(similarity)\n",
    "    index = index.item()\n",
    "    result_text = topic[index]\n",
    "    return index, result_text,similarity.max()"
   ]
  },
  {
   "cell_type": "code",
   "execution_count": 20,
   "metadata": {},
   "outputs": [],
   "source": [
    "index, result_text,similarity = ST_search(df,query)"
   ]
  },
  {
   "cell_type": "code",
   "execution_count": 21,
   "metadata": {},
   "outputs": [
    {
     "name": "stdout",
     "output_type": "stream",
     "text": [
      "Your score : 0.9409849643707275\n"
     ]
    }
   ],
   "source": [
    "print(f'Your score : {similarity}')"
   ]
  },
  {
   "cell_type": "code",
   "execution_count": 22,
   "metadata": {},
   "outputs": [
    {
     "data": {
      "text/plain": [
       "(315, 315)"
      ]
     },
     "execution_count": 22,
     "metadata": {},
     "output_type": "execute_result"
    }
   ],
   "source": [
    "index, indice"
   ]
  },
  {
   "cell_type": "markdown",
   "metadata": {},
   "source": [
    "### Testing"
   ]
  },
  {
   "cell_type": "markdown",
   "metadata": {},
   "source": [
    "`Methodology`: \n",
    "<br><br>Since, the model requires text input, it is difficult to automate testing process, So i naively conduct testing for 3 examples.<br><br>\n",
    "Scoring criteria (confusinon_matrix) : (TruePositives,False Positives, False Negatives,True Negatives)\n",
    "- I have calculated TP, FP, TN, FN based on similarity scores (threshold of 0.5 in most cases) and not on index matching.(usual way of calculating those)\n",
    "- This is mainly done to get more definitive evalutation."
   ]
  },
  {
   "cell_type": "markdown",
   "metadata": {},
   "source": [
    "#### Example 1"
   ]
  },
  {
   "cell_type": "code",
   "execution_count": 23,
   "metadata": {},
   "outputs": [],
   "source": [
    "query_new = \"The syndrome has no racial or gender predilection. The syndrome observed to occur between 23 to 26 years for adults.\""
   ]
  },
  {
   "cell_type": "code",
   "execution_count": 24,
   "metadata": {},
   "outputs": [
    {
     "name": "stdout",
     "output_type": "stream",
     "text": [
      "score using BM25 : 0.6637617723906973\n",
      "\n",
      "user index:315\n",
      "\n",
      "real index:315\n"
     ]
    }
   ],
   "source": [
    "user_score, user_index = search_engine(df,query_new)\n",
    "print(f'score using BM25 : {user_score}\\n\\nuser index:{user_index}\\n\\nreal index:{indice}')"
   ]
  },
  {
   "cell_type": "code",
   "execution_count": 25,
   "metadata": {},
   "outputs": [
    {
     "name": "stdout",
     "output_type": "stream",
     "text": [
      "score using sentence transformer : 0.5060998201370239\n",
      "\n",
      "user index:315\n",
      "\n",
      "real index:315\n"
     ]
    }
   ],
   "source": [
    "index, result_text,similarity = ST_search(df,query_new)\n",
    "print(f'score using sentence transformer : {similarity}\\n\\nuser index:{index}\\n\\nreal index:{indice}')"
   ]
  },
  {
   "cell_type": "markdown",
   "metadata": {},
   "source": [
    "Scores:\n",
    "- False Positive for BM25(0,1,0,0)\n",
    "- ST(1,0,0,0)"
   ]
  },
  {
   "cell_type": "code",
   "execution_count": 26,
   "metadata": {},
   "outputs": [
    {
     "name": "stdout",
     "output_type": "stream",
     "text": [
      "score using BM25 : 0.6159147979703334\n",
      "\n",
      "user index:315\n",
      "\n",
      "real index:315\n",
      "\n",
      "score using sentence transformer : 0.8363104462623596\n",
      "\n",
      "user index:315\n",
      "\n",
      "real index:315\n"
     ]
    }
   ],
   "source": [
    "query_new = \"The syndrome has no racial or gender predilection. The syndrome observed to occur between 23 to 26 years for adults. The prevalence of Peutz-Jeghers syndrome is 0.8 to 2.8 in 100000\"\n",
    "user_score, user_index = search_engine(df,query_new)\n",
    "index, result_text,similarity = ST_search(df,query_new)\n",
    "print(f'score using BM25 : {user_score}\\n\\nuser index:{user_index}\\n\\nreal index:{indice}')\n",
    "print(f'\\nscore using sentence transformer : {similarity}\\n\\nuser index:{index}\\n\\nreal index:{indice}')"
   ]
  },
  {
   "cell_type": "markdown",
   "metadata": {},
   "source": [
    "Scores:\n",
    "- BM25(1,1,0,0)\n",
    "- ST(2,0,0,0)"
   ]
  },
  {
   "cell_type": "markdown",
   "metadata": {},
   "source": [
    "Giving wrong answer to predict quality of two system"
   ]
  },
  {
   "cell_type": "code",
   "execution_count": 27,
   "metadata": {},
   "outputs": [
    {
     "name": "stdout",
     "output_type": "stream",
     "text": [
      "score using BM25 : 0.3723763785263308\n",
      "\n",
      "user index:711\n",
      "\n",
      "real index:315\n",
      "\n",
      "score using sentence transformer : 0.5869288444519043\n",
      "\n",
      "user index:654\n",
      "\n",
      "real index:315\n"
     ]
    }
   ],
   "source": [
    "query_new = \"The syndrome has no race or gender preference. The syndromes is seen to occur in young adults. The prevalence of syndrome is 1.6 to 2.5 in 1000\"\n",
    "user_score, user_index = search_engine(df,query_new)\n",
    "index, result_text,similarity = ST_search(df,query_new)\n",
    "print(f'score using BM25 : {user_score}\\n\\nuser index:{user_index}\\n\\nreal index:{indice}')\n",
    "print(f'\\nscore using sentence transformer : {similarity}\\n\\nuser index:{index}\\n\\nreal index:{indice}')"
   ]
  },
  {
   "cell_type": "markdown",
   "metadata": {},
   "source": [
    "Scores:\n",
    "- BM25(1,1,0,1)\n",
    "- False Positive for ST(2,1,0,0)"
   ]
  },
  {
   "cell_type": "markdown",
   "metadata": {},
   "source": [
    "#### Example 2"
   ]
  },
  {
   "cell_type": "code",
   "execution_count": 28,
   "metadata": {},
   "outputs": [
    {
     "name": "stdout",
     "output_type": "stream",
     "text": [
      "indice : 893\n",
      "question : What is the history and what are the symptoms of disseminated intravascular coagulation?\n",
      "answer : Patients with DIC may have a history of abruptio placentae, amniotic fluid embolism, aortic aneurysm, blood transfusion reaction, drug exposure (e.g. amphetamines), eclampsia, giant hemangioma, graft-versus-host disease, HELLP syndrome, hemolytic transfusion reaction, liver disease, malignancy (especially acute promyelocytic leukemia), sepsis (esp. gram-negative bacteria), severe allergic reaction, transplant rejection, trauma (e.g. fat embolism, head injury), venomous snake and viral hemorrhagic fever.\n"
     ]
    }
   ],
   "source": [
    "indice = 893\n",
    "question, answer, = df.iloc[indice]['question'],df.iloc[indice]['answer']\n",
    "print(f'indice : {indice}\\nquestion : {question}\\nanswer : {answer}')"
   ]
  },
  {
   "cell_type": "markdown",
   "metadata": {},
   "source": [
    "**Repeating the procedure of progressivily convulting language**"
   ]
  },
  {
   "cell_type": "code",
   "execution_count": 29,
   "metadata": {},
   "outputs": [
    {
     "name": "stdout",
     "output_type": "stream",
     "text": [
      "score using BM25 : 0.35730133917757434\n",
      "\n",
      "user index:266\n",
      "\n",
      "real index:893\n",
      "\n",
      "score using sentence transformer : 0.5851185321807861\n",
      "\n",
      "user index:266\n",
      "\n",
      "real index:893\n"
     ]
    }
   ],
   "source": [
    "query_new = \"People with history of placentae might be prone to disseminated intravascular coagulation.\"\n",
    "user_score, user_index = search_engine(df,query_new)\n",
    "index, result_text,similarity = ST_search(df,query_new)\n",
    "print(f'score using BM25 : {user_score}\\n\\nuser index:{user_index}\\n\\nreal index:{indice}')\n",
    "print(f'\\nscore using sentence transformer : {similarity}\\n\\nuser index:{index}\\n\\nreal index:{indice}')"
   ]
  },
  {
   "cell_type": "markdown",
   "metadata": {},
   "source": [
    "Scores:\n",
    "- BM25(1,1,0,2)\n",
    "- False Positive ST(2,2,0,0)"
   ]
  },
  {
   "cell_type": "code",
   "execution_count": 30,
   "metadata": {},
   "outputs": [
    {
     "name": "stdout",
     "output_type": "stream",
     "text": [
      "score using BM25 : 0.7534539451842835\n",
      "\n",
      "user index:893\n",
      "\n",
      "real index:893\n",
      "\n",
      "score using sentence transformer : 0.8098570704460144\n",
      "\n",
      "user index:893\n",
      "\n",
      "real index:893\n"
     ]
    }
   ],
   "source": [
    "query_new = \"People with history of severe allergies, transplant rejection, trauma (e.g. fat embolism, head injury), venomous snake and viral hemorrhagic fever.be prone to DIC\"\n",
    "user_score, user_index = search_engine(df,query_new)\n",
    "index, result_text,similarity = ST_search(df,query_new)\n",
    "print(f'score using BM25 : {user_score}\\n\\nuser index:{user_index}\\n\\nreal index:{indice}')\n",
    "print(f'\\nscore using sentence transformer : {similarity}\\n\\nuser index:{index}\\n\\nreal index:{indice}')"
   ]
  },
  {
   "cell_type": "markdown",
   "metadata": {},
   "source": [
    "Scores:\n",
    "- BM25(2,1,0,2)\n",
    "- ST(3,2,0,0)"
   ]
  },
  {
   "cell_type": "markdown",
   "metadata": {},
   "source": [
    "**Providing Ambigous Answers**"
   ]
  },
  {
   "cell_type": "code",
   "execution_count": 31,
   "metadata": {},
   "outputs": [
    {
     "name": "stdout",
     "output_type": "stream",
     "text": [
      "score using BM25 : 0.5067731031429341\n",
      "\n",
      "user index:893\n",
      "\n",
      "real index:893\n",
      "\n",
      "score using sentence transformer : 0.7604563236236572\n",
      "\n",
      "user index:893\n",
      "\n",
      "real index:893\n"
     ]
    }
   ],
   "source": [
    "query_new = \"Humans with history of severe allergies, brain transplant, trauma ,snake bites and viral  fever (hemorrhagi) are prone to DIC\"\n",
    "user_score, user_index = search_engine(df,query_new)\n",
    "index, result_text,similarity = ST_search(df,query_new)\n",
    "print(f'score using BM25 : {user_score}\\n\\nuser index:{user_index}\\n\\nreal index:{indice}')\n",
    "print(f'\\nscore using sentence transformer : {similarity}\\n\\nuser index:{index}\\n\\nreal index:{indice}')"
   ]
  },
  {
   "cell_type": "markdown",
   "metadata": {},
   "source": [
    "Scores:\n",
    "- False positive BM25(2,2,0,2)\n",
    "- False positive ST(3,3,0,0)"
   ]
  },
  {
   "cell_type": "markdown",
   "metadata": {},
   "source": [
    "**Incorrect but syntactically same answers**"
   ]
  },
  {
   "cell_type": "code",
   "execution_count": 32,
   "metadata": {},
   "outputs": [
    {
     "name": "stdout",
     "output_type": "stream",
     "text": [
      "score using BM25 : 0.4004705214410462\n",
      "\n",
      "user index:290\n",
      "\n",
      "real index:893\n",
      "\n",
      "score using sentence transformer : 0.4721139967441559\n",
      "\n",
      "user index:893\n",
      "\n",
      "real index:893\n"
     ]
    }
   ],
   "source": [
    "query_new = \"Humans with history of severe algae,transport injection, coma , eagle kites and viral cold (hemorrhagi) are prone to BIC\"\n",
    "user_score, user_index = search_engine(df,query_new)\n",
    "index, result_text,similarity = ST_search(df,query_new)\n",
    "print(f'score using BM25 : {user_score}\\n\\nuser index:{user_index}\\n\\nreal index:{indice}')\n",
    "print(f'\\nscore using sentence transformer : {similarity}\\n\\nuser index:{index}\\n\\nreal index:{indice}')"
   ]
  },
  {
   "cell_type": "markdown",
   "metadata": {},
   "source": [
    "Scores:\n",
    "-  BM25(2,2,0,3)\n",
    "-  ST(3,3,0,1)"
   ]
  },
  {
   "cell_type": "markdown",
   "metadata": {},
   "source": [
    "#### Example 3"
   ]
  },
  {
   "cell_type": "code",
   "execution_count": 34,
   "metadata": {},
   "outputs": [
    {
     "name": "stdout",
     "output_type": "stream",
     "text": [
      "indice : 858\n",
      "question : What is the purpose of an MRI in detecting Pseudomyxoma peritonei?\n",
      "answer : Abdominal MRI is helpful in the diagnosis of pseudomyxoma peritonei. On abdominal MRI, pseudomyxoma peritonei is characterized by a mass which is hypointense on T1-weighted MRI and hyperintense on T2-weighted MRI. MRI has better sensitivity in detecting ascitic fluid and mucocele.\n"
     ]
    }
   ],
   "source": [
    "indice = 858\n",
    "question, answer, = df.iloc[indice]['question'],df.iloc[indice]['answer']\n",
    "print(f'indice : {indice}\\nquestion : {question}\\nanswer : {answer}')"
   ]
  },
  {
   "cell_type": "code",
   "execution_count": 35,
   "metadata": {},
   "outputs": [
    {
     "name": "stdout",
     "output_type": "stream",
     "text": [
      "score using BM25 : 0.7184778547645139\n",
      "\n",
      "user index:858\n",
      "\n",
      "real index:858\n",
      "\n",
      "score using sentence transformer : 0.9523378014564514\n",
      "\n",
      "user index:858\n",
      "\n",
      "real index:858\n"
     ]
    }
   ],
   "source": [
    "query_new = \" On abdominal MRI, pseudomyxoma peritonei is characterized by a mass which is hypointense on T1-weighted MRI and hyperintense on T2-weighted MRI.\"\n",
    "user_score, user_index = search_engine(df,query_new)\n",
    "index, result_text,similarity = ST_search(df,query_new)\n",
    "print(f'score using BM25 : {user_score}\\n\\nuser index:{user_index}\\n\\nreal index:{indice}')\n",
    "print(f'\\nscore using sentence transformer : {similarity}\\n\\nuser index:{index}\\n\\nreal index:{indice}')"
   ]
  },
  {
   "cell_type": "markdown",
   "metadata": {},
   "source": [
    "Scores:\n",
    "-  BM25(3,2,0,3)\n",
    "-  ST(4,3,0,1)"
   ]
  },
  {
   "cell_type": "code",
   "execution_count": 36,
   "metadata": {},
   "outputs": [
    {
     "name": "stdout",
     "output_type": "stream",
     "text": [
      "score using BM25 : 0.33264087606812864\n",
      "\n",
      "user index:191\n",
      "\n",
      "real index:858\n",
      "\n",
      "score using sentence transformer : 0.41637101769447327\n",
      "\n",
      "user index:604\n",
      "\n",
      "real index:858\n"
     ]
    }
   ],
   "source": [
    "query_new = \"Obviously for diagnosing.\"\n",
    "user_score, user_index = search_engine(df,query_new)\n",
    "index, result_text,similarity = ST_search(df,query_new)\n",
    "print(f'score using BM25 : {user_score}\\n\\nuser index:{user_index}\\n\\nreal index:{indice}')\n",
    "print(f'\\nscore using sentence transformer : {similarity}\\n\\nuser index:{index}\\n\\nreal index:{indice}')"
   ]
  },
  {
   "cell_type": "markdown",
   "metadata": {},
   "source": [
    "Scores:\n",
    "-  BM25(3,2,0,4)\n",
    "-  ST(4,3,0,2)"
   ]
  },
  {
   "cell_type": "code",
   "execution_count": 37,
   "metadata": {},
   "outputs": [
    {
     "name": "stdout",
     "output_type": "stream",
     "text": [
      "score using BM25 : 0.7945593302531387\n",
      "\n",
      "user index:858\n",
      "\n",
      "real index:858\n",
      "\n",
      "score using sentence transformer : 0.6618459224700928\n",
      "\n",
      "user index:858\n",
      "\n",
      "real index:858\n"
     ]
    }
   ],
   "source": [
    "query_new = \"For curing pseudomyxoma peritonei and reducing ascitic fluid and mucocele levels.\"\n",
    "user_score, user_index = search_engine(df,query_new)\n",
    "index, result_text,similarity = ST_search(df,query_new)\n",
    "print(f'score using BM25 : {user_score}\\n\\nuser index:{user_index}\\n\\nreal index:{indice}')\n",
    "print(f'\\nscore using sentence transformer : {similarity}\\n\\nuser index:{index}\\n\\nreal index:{indice}')"
   ]
  },
  {
   "cell_type": "markdown",
   "metadata": {},
   "source": [
    "Scores:\n",
    "-  False Positive BM25(3,3,0,4)\n",
    "-  False Positive ST(4,4,0,2)"
   ]
  },
  {
   "cell_type": "markdown",
   "metadata": {},
   "source": [
    "`Observations`: \n",
    "- Both models give no False Negatives. That is they are good at predicting wrong answers with BM25 being espically good at it.\n",
    "- Sentence Transformers are equally good and bad at True positive and false positive.\n",
    "- Since we are designing interview system BM25 seems to edge as the model gives higher prediction of incorrect answers, for slightly worse performance for correct answers."
   ]
  },
  {
   "cell_type": "markdown",
   "metadata": {},
   "source": [
    "#### Calculating some measures:"
   ]
  },
  {
   "cell_type": "code",
   "execution_count": 38,
   "metadata": {},
   "outputs": [],
   "source": [
    "m1 = [3,3,0,4]\n",
    "m2 = [4,4,0,2]"
   ]
  },
  {
   "cell_type": "code",
   "execution_count": 39,
   "metadata": {},
   "outputs": [
    {
     "name": "stdout",
     "output_type": "stream",
     "text": [
      "Confusion matrix for BM25:\n",
      "3\t3\n",
      "0\t4\n",
      "Confusion matrix for Sentence Transformers :\n",
      "4\t4\n",
      "0\t2\n"
     ]
    }
   ],
   "source": [
    "print(f'Confusion matrix for BM25:\\n{m1[0]}\\t{m1[1]}\\n{m1[2]}\\t{m1[3]}')\n",
    "print(f'Confusion matrix for Sentence Transformers :\\n{m2[0]}\\t{m2[1]}\\n{m2[2]}\\t{m2[3]}')"
   ]
  },
  {
   "cell_type": "markdown",
   "metadata": {},
   "source": [
    "I am naively calculating metrics for simplicity, but sklearn can be used for better testing."
   ]
  },
  {
   "cell_type": "code",
   "execution_count": 40,
   "metadata": {},
   "outputs": [],
   "source": [
    "def get_report(m1:list,m2:list):\n",
    "    pr_bm = m1[0]/(m1[0]+m1[1])\n",
    "    pr_st = m2[0]/(m2[0]+m2[1])\n",
    "    rec_bm = m1[0]/(m1[0]+m1[2])\n",
    "    rec_st = m2[0]/(m2[0]+m2[2])\n",
    "    ac_bm = ( m1[0] + m1[3]  ) / (m1[0]+m1[1]+m1[2]+m1[3])\n",
    "    ac_st = ( m2[0] + m2[3] )/(m2[0]+m2[1]+m2[2]+m2[3])\n",
    "    f1_bm = (2*pr_bm*rec_bm)/(pr_bm+rec_bm)\n",
    "    f1_st = (2*pr_st*rec_st)/(pr_st+rec_st)\n",
    "    print('Metric sheet\\n-------------------------------------------------')\n",
    "    print(f'Precision :\\tBM25 : {pr_bm}\\tST : {pr_st}')\n",
    "    print(f'Recall :\\tBM25 : {rec_bm}\\tST : {rec_st}')\n",
    "    print(f'Accuracy :\\tBM25 : {ac_bm}\\tST : {ac_st}')\n",
    "    print(f'F1 :\\t\\tBM25 : {f1_bm:0.4f}\\tST : {f1_st:0.4f}')"
   ]
  },
  {
   "cell_type": "code",
   "execution_count": 41,
   "metadata": {},
   "outputs": [
    {
     "name": "stdout",
     "output_type": "stream",
     "text": [
      "Metric sheet\n",
      "-------------------------------------------------\n",
      "Precision :\tBM25 : 0.5\tST : 0.5\n",
      "Recall :\tBM25 : 1.0\tST : 1.0\n",
      "Accuracy :\tBM25 : 0.7\tST : 0.6\n",
      "F1 :\t\tBM25 : 0.6667\tST : 0.6667\n"
     ]
    }
   ],
   "source": [
    "get_report(m1,m2)"
   ]
  },
  {
   "cell_type": "markdown",
   "metadata": {},
   "source": [
    "`Conclusions`: For search Engines F1 is generally used to evaluate and since both have similar F1 , precision and recall. So the remmaing measure namely accuracy is used to evaluate and BM25 seems to edge sentence transformer model.\n",
    "Maybe a better model could beat BM25 but at the moment it cannot be discarded and will be used for further iterations."
   ]
  }
 ],
 "metadata": {
  "kernelspec": {
   "display_name": "NLP",
   "language": "python",
   "name": "python3"
  },
  "language_info": {
   "codemirror_mode": {
    "name": "ipython",
    "version": 3
   },
   "file_extension": ".py",
   "mimetype": "text/x-python",
   "name": "python",
   "nbconvert_exporter": "python",
   "pygments_lexer": "ipython3",
   "version": "3.11.6"
  }
 },
 "nbformat": 4,
 "nbformat_minor": 2
}
